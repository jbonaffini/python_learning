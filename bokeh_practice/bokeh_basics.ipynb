{
 "cells": [
  {
   "cell_type": "code",
   "execution_count": 14,
   "metadata": {},
   "outputs": [],
   "source": [
    "# making a basic Bokeh line graph\n",
    "\n",
    "# imports\n",
    "from bokeh.plotting import figure\n",
    "from bokeh.io import output_file, show\n",
    "\n",
    "# sample data\n",
    "x=[1, 2, 3, 4, 5]\n",
    "y=[6, 7, 8, 9, 10]\n",
    "\n",
    "# prepare output file\n",
    "output_file(r\"D:\\dev\\practice_workspace\\bokeh_practice\\resources\\Line.html\")\n",
    "\n",
    "# create figure object\n",
    "f=figure()\n",
    "\n",
    "# create line plot\n",
    "f.line(x,y)\n",
    "\n",
    "show(f)"
   ]
  },
  {
   "cell_type": "code",
   "execution_count": 22,
   "metadata": {},
   "outputs": [],
   "source": [
    "# dir(f)\n",
    "# help(f.triangle)\n",
    "# help(f.circle)"
   ]
  },
  {
   "cell_type": "code",
   "execution_count": 16,
   "metadata": {},
   "outputs": [],
   "source": [
    "# help(f.triangle)\n",
    "# output file for triangle plot\n",
    "output_file(r\"D:\\dev\\practice_workspace\\bokeh_practice\\resources\\triangle.html\")\n",
    "\n",
    "# figure for triangle plot\n",
    "ftri=figure()\n",
    "\n",
    "# data\n",
    "xtri=[3,7.5,10]\n",
    "ytri=[3,6,9]\n",
    "\n",
    "# create plot and show\n",
    "ftri.triangle(xtri,ytri)\n",
    "show(ftri)"
   ]
  },
  {
   "cell_type": "code",
   "execution_count": 21,
   "metadata": {},
   "outputs": [],
   "source": [
    "# help(f.circle)\n",
    "# output file for circle plot\n",
    "output_file(r\"D:\\dev\\practice_workspace\\bokeh_practice\\resources\\circle.html\")\n",
    "\n",
    "# figure for circle plot\n",
    "fcirc=figure()\n",
    "\n",
    "# data\n",
    "xcirc=[3,7.5,10]\n",
    "ycirc=[3,6,9]\n",
    "\n",
    "# create plot and show\n",
    "fcirc.circle(xcirc,ycirc)\n",
    "show(fcirc)"
   ]
  },
  {
   "cell_type": "code",
   "execution_count": 26,
   "metadata": {},
   "outputs": [
    {
     "name": "stdout",
     "output_type": "stream",
     "text": [
      "   x   y\n",
      "0  1   6\n",
      "1  2   7\n",
      "2  3   8\n",
      "3  4   9\n",
      "4  5  10\n"
     ]
    }
   ],
   "source": [
    "# making a basic Bokeh line graph\n",
    "\n",
    "# imports\n",
    "from bokeh.plotting import figure\n",
    "from bokeh.io import output_file, show\n",
    "import pandas\n",
    "\n",
    "# read in data\n",
    "df=pandas.read_csv(r\"D:\\dev\\practice_workspace\\bokeh_practice\\resources\\data.csv\")\n",
    "x=df[\"x\"]\n",
    "y=df[\"y\"]\n",
    "print(df)\n",
    "\n",
    "# prepare output file\n",
    "output_file(r\"D:\\dev\\practice_workspace\\bokeh_practice\\resources\\Line.html\")\n",
    "\n",
    "# create figure object\n",
    "f=figure()\n",
    "\n",
    "# create line plot\n",
    "f.line(x,y)\n",
    "\n",
    "show(f)"
   ]
  },
  {
   "cell_type": "code",
   "execution_count": 31,
   "metadata": {},
   "outputs": [],
   "source": [
    "# making Bokeh line graph from csv data\n",
    "\n",
    "# imports\n",
    "from bokeh.plotting import figure\n",
    "from bokeh.io import output_file, show\n",
    "import pandas\n",
    "\n",
    "# read in data\n",
    "df=pandas.read_csv(r\"D:\\dev\\practice_workspace\\bokeh_practice\\resources\\bachelors.csv\")\n",
    "x=df[\"Year\"]\n",
    "y=df[\"Engineering\"]\n",
    "# print(df)\n",
    "\n",
    "# prepare output file\n",
    "output_file(r\"D:\\dev\\practice_workspace\\bokeh_practice\\resources\\EduLine.html\")\n",
    "\n",
    "# create figure object\n",
    "f=figure()\n",
    "\n",
    "# create line plot\n",
    "f.line(x,y)\n",
    "\n",
    "show(f)"
   ]
  },
  {
   "cell_type": "code",
   "execution_count": 30,
   "metadata": {},
   "outputs": [],
   "source": [
    "# making Bokeh line graph with properties\n",
    "\n",
    "# imports\n",
    "from bokeh.plotting import figure\n",
    "from bokeh.io import output_file, show\n",
    "import pandas\n",
    "\n",
    "# make figure\n",
    "p=figure(plot_width=500,plot_height=400, tools='pan')\n",
    "\n",
    "# adjust properties\n",
    "p.title.text=\"Cool Data\"\n",
    "p.title.text_color=\"Gray\"\n",
    "p.title.text_font=\"times\"\n",
    "p.title.text_font_style=\"bold\"\n",
    "p.xaxis.minor_tick_line_color=None\n",
    "p.yaxis.minor_tick_line_color=None\n",
    "p.xaxis.axis_label=\"Date\"\n",
    "p.yaxis.axis_label=\"Intensity\"    \n",
    "\n",
    "# create data and display\n",
    "p.line([1,2,3],[4,5,6])\n",
    "output_file(r\"D:\\dev\\practice_workspace\\bokeh_practice\\resources\\graph.html\")\n",
    "show(p)"
   ]
  },
  {
   "cell_type": "code",
   "execution_count": 60,
   "metadata": {},
   "outputs": [],
   "source": [
    "# making Bokeh line graph with properties, data from xlsx\n",
    "\n",
    "# imports\n",
    "from bokeh.plotting import figure\n",
    "from bokeh.io import output_file, show\n",
    "import pandas\n",
    "\n",
    "# read in data\n",
    "df=pandas.read_excel(r\"D:\\dev\\practice_workspace\\bokeh_practice\\resources\\verlegenhuken.xlsx\")\n",
    "x=df[\"Temperature\"]\n",
    "y=df[\"Pressure\"]\n",
    "# print(df.columns)\n",
    "\n",
    "# make figure\n",
    "p=figure(plot_width=500,plot_height=400, tools='pan')\n",
    "\n",
    "# adjust properties\n",
    "p.title.text=\"Temperature and Air Pressure\"\n",
    "p.title.text_color=\"Gray\"\n",
    "p.title.text_font=\"times\"\n",
    "p.title.text_font_style=\"bold\"\n",
    "p.title.text_font_size=\"20pt\"\n",
    "p.title.align=\"center\"\n",
    "\n",
    "p.xaxis.minor_tick_line_color=\"Yellow\"\n",
    "p.xaxis.axis_label_text_align=\"center\"\n",
    "p.xaxis.axis_label_text_font_size=\"12pt\"\n",
    "p.xaxis.axis_label=u\"Temperature (\\xb0C)\"\n",
    "\n",
    "p.yaxis.minor_tick_line_color=\"Yellow\"\n",
    "p.yaxis.axis_label_text_align=\"center\"\n",
    "p.yaxis.axis_label_text_font_size=\"12pt\"\n",
    "p.yaxis.axis_label=\"Pressure (hPa)\" \n",
    "\n",
    "# put in data\n",
    "scale_factor=10\n",
    "p.circle(x/scale_factor, y/scale_factor)\n",
    "\n",
    "# display\n",
    "output_file(r\"D:\\dev\\practice_workspace\\bokeh_practice\\resources\\verlegenhuken.html\")\n",
    "show(p)"
   ]
  },
  {
   "cell_type": "code",
   "execution_count": 72,
   "metadata": {},
   "outputs": [
    {
     "name": "stdout",
     "output_type": "stream",
     "text": [
      "Index(['Date', 'Open', 'High', 'Low', 'Close', 'Volume'], dtype='object')\n"
     ]
    }
   ],
   "source": [
    "# making Bokeh time series plot\n",
    "\n",
    "# imports\n",
    "from bokeh.plotting import figure\n",
    "from bokeh.io import output_file, show\n",
    "import pandas\n",
    "\n",
    "link=r\"D:\\dev\\practice_workspace\\bokeh_practice\\resources\\adbe.csv\"\n",
    "\n",
    "# read in data\n",
    "df=pandas.read_csv(link, parse_dates=[\"Date\"])\n",
    "# x=df[\"Temperature\"]\n",
    "# y=df[\"Pressure\"]\n",
    "print(df.columns)\n",
    "\n",
    "# make figure\n",
    "p=figure(plot_width=1000,plot_height=400, x_axis_type=\"datetime\", sizing_mode=\"scale_both\")\n",
    "p.line(df[\"Date\"], df[\"Close\"], color=\"Orange\", alpha=0.5)\n",
    "output_file(r\"D:\\dev\\practice_workspace\\bokeh_practice\\resources\\timeseries.html\")\n",
    "\n",
    "show(p)\n"
   ]
  },
  {
   "cell_type": "code",
   "execution_count": 84,
   "metadata": {},
   "outputs": [],
   "source": [
    "# dir(p.quad)\n",
    "# help(p.quad)"
   ]
  },
  {
   "cell_type": "code",
   "execution_count": 89,
   "metadata": {},
   "outputs": [
    {
     "name": "stdout",
     "output_type": "stream",
     "text": [
      "Index(['Unnamed: 0', 'Start', 'End'], dtype='object')\n",
      "3\n",
      "0   2018-10-30 19:40:00.137738\n",
      "1   2018-10-30 19:40:02.409590\n",
      "2   2018-10-30 19:40:04.537035\n",
      "Name: Start, dtype: datetime64[ns]\n",
      "0   2018-10-30 19:40:01.098333\n",
      "1   2018-10-30 19:40:03.227772\n",
      "2   2018-10-30 19:40:05.354167\n",
      "Name: End, dtype: datetime64[ns]\n"
     ]
    }
   ],
   "source": [
    "# generate bokeh plot\n",
    "# imports\n",
    "from datetime import datetime\n",
    "from bokeh.plotting import figure\n",
    "from bokeh.io import output_file, show\n",
    "import pandas\n",
    "\n",
    "# get DataFrame\n",
    "link=r\"D:\\dev\\practice_workspace\\app6_WebcamDetector\\resources\\Times.csv\"\n",
    "df=pandas.read_csv(link, parse_dates=[\"Start\", \"End\"])\n",
    "\n",
    "print(df.columns)\n",
    "print(len(df))\n",
    "print(df[\"Start\"])\n",
    "print(df[\"End\"])\n",
    "\n",
    "# generate figure\n",
    "# make figure\n",
    "p=figure(plot_width=1000,plot_height=400, x_axis_type=\"datetime\", sizing_mode=\"scale_both\")\n",
    "p.title.text=\"Motion Graph\"\n",
    "p.title.text_color=\"Gray\"\n",
    "p.title.text_font=\"times\"\n",
    "p.title.text_font_style=\"bold\"\n",
    "p.title.text_font_size=\"20pt\"\n",
    "p.title.align=\"center\"\n",
    "\n",
    "# for start,end in zip(df[\"Start\"], df[\"End\"])\n",
    "q=p.quad(left=df[\"Start\"],right=df[\"End\"],bottom=0, top=1, color=\"green\")\n",
    "output_file(r\"D:\\dev\\practice_workspace\\app6_WebcamDetector\\resources\\timegraph.html\")\n",
    "show(p)\n"
   ]
  },
  {
   "cell_type": "code",
   "execution_count": 83,
   "metadata": {},
   "outputs": [
    {
     "data": {
      "text/plain": [
       "[0, 0]"
      ]
     },
     "execution_count": 83,
     "metadata": {},
     "output_type": "execute_result"
    }
   ],
   "source": [
    "[0]*len(df)"
   ]
  }
 ],
 "metadata": {
  "kernelspec": {
   "display_name": "Python 3",
   "language": "python",
   "name": "python3"
  },
  "language_info": {
   "codemirror_mode": {
    "name": "ipython",
    "version": 3
   },
   "file_extension": ".py",
   "mimetype": "text/x-python",
   "name": "python",
   "nbconvert_exporter": "python",
   "pygments_lexer": "ipython3",
   "version": "3.6.4"
  }
 },
 "nbformat": 4,
 "nbformat_minor": 2
}
