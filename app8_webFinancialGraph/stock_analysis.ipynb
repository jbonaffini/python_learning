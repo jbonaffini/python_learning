{
 "cells": [
  {
   "cell_type": "code",
   "execution_count": 85,
   "metadata": {},
   "outputs": [],
   "source": [
    "# imports\n",
    "from pandas_datareader import data\n",
    "import datetime\n",
    "from bokeh.plotting import figure\n",
    "from bokeh.io import output_file, show\n",
    "from bokeh.embed import components\n",
    "from bokeh.resources import CDN\n",
    "\n",
    "start=datetime.datetime(2018,3,1)\n",
    "end=datetime.datetime(2018,11,1)\n",
    "df=data.DataReader(name=\"LMT\", data_source=\"yahoo\",start=start,end=end)\n",
    "\n",
    "def inc_dec(c,o):\n",
    "    if o>c:\n",
    "        return \"Increase\"\n",
    "    elif c>o:\n",
    "        return \"Decrease\"\n",
    "    else:\n",
    "        return \"equal\"\n",
    "\n",
    "date_inc=df[df.Open > df.Close]\n",
    "date_dec=df[df.Close > df.Open]\n",
    "df[\"Status\"]=[inc_dec(c,o) for c,o in zip(df.Close,df.Open)]\n",
    "df[\"Middle\"]=(df.Open+df.Close)/2\n",
    "df[\"Height\"]=abs(df.Open-df.Close)\n",
    "\n",
    "# set up the bokeh figure\n",
    "# This section uses quadrant glyph\n",
    "# p=figure(plot_width=1000,plot_height=400, x_axis_type=\"datetime\", sizing_mode=\"scale_both\")\n",
    "# p.title.text=\"Candlestick Chart\"\n",
    "# p.title.text_color=\"Gray\"\n",
    "# p.title.text_font=\"times\"\n",
    "# p.title.text_font_style=\"bold\"\n",
    "# p.title.text_font_size=\"20pt\"\n",
    "# p.title.align=\"center\"\n",
    "\n",
    "# # display quadrants for candlestick display\n",
    "# q=p.quad(left=date_inc.index,\n",
    "#          right=date_inc.index,\n",
    "#          bottom=date_inc.Close, \n",
    "#          top=date_inc.Open, \n",
    "#          color=\"gray\")\n",
    "# q=p.quad(left=date_dec.index,\n",
    "#          right=date_dec.index,\n",
    "#          bottom=date_dec.Open, \n",
    "#          top=date_dec.Close, \n",
    "#          color=\"red\")\n",
    "# output_file(r\"D:\\dev\\practice_workspace\\app8_webFinancialGraph\\resources\\candlestick.html\")\n",
    "# show(p)\n",
    "\n",
    "# set up the bokeh figure\n",
    "\n",
    "r=figure(plot_width=1000,plot_height=400, x_axis_type=\"datetime\", sizing_mode=\"scale_both\")\n",
    "r.title.text=\"Candlestick Chart\"\n",
    "r.title.text_color=\"Gray\"\n",
    "r.title.text_font=\"times\"\n",
    "r.title.text_font_style=\"bold\"\n",
    "r.title.text_font_size=\"20pt\"\n",
    "r.title.align=\"center\"\n",
    "r.grid.grid_line_alpha=0.3\n",
    "\n",
    "# 12 hours in milliseconds\n",
    "hr=12*60*60*1000\n",
    "\n",
    "# display rectangles for candlestick display\n",
    "z=r.segment(df.index,\n",
    "            df.High,\n",
    "            df.index,\n",
    "            df.Low,\n",
    "            color=\"black\")\n",
    "z=r.rect(x=df.index[df.Status==\"Increase\"],\n",
    "         y=df.Middle[df.Status==\"Increase\"],\n",
    "         width=hr,\n",
    "         height=df.Height[df.Status==\"Increase\"],\n",
    "         fill_color=\"#CCFFFF\",\n",
    "         line_color=\"black\")\n",
    "z=r.rect(x=df.index[df.Status==\"Decrease\"],\n",
    "         y=df.Middle[df.Status==\"Decrease\"],\n",
    "         width=hr,\n",
    "         height=df.Height[df.Status==\"Decrease\"],\n",
    "         fill_color=\"#FF3333\",\n",
    "         line_color=\"black\")\n",
    "\n",
    "script1, div1 = components(r)\n",
    "cdn_js=CDN.js_files\n",
    "cdn_css=CDN.css_files\n",
    "\n",
    "output_file(r\"D:\\dev\\practice_workspace\\app8_webFinancialGraph\\resources\\candlestick2.html\")\n",
    "show(r)"
   ]
  },
  {
   "cell_type": "code",
   "execution_count": 82,
   "metadata": {},
   "outputs": [
    {
     "data": {
      "text/plain": [
       "'https://cdn.pydata.org/bokeh/release/bokeh-1.0.0.min.js'"
      ]
     },
     "execution_count": 82,
     "metadata": {},
     "output_type": "execute_result"
    }
   ],
   "source": [
    "cdn_js[0]"
   ]
  },
  {
   "cell_type": "code",
   "execution_count": 84,
   "metadata": {},
   "outputs": [
    {
     "data": {
      "text/plain": [
       "'https://cdn.pydata.org/bokeh/release/bokeh-1.0.0.min.css'"
      ]
     },
     "execution_count": 84,
     "metadata": {},
     "output_type": "execute_result"
    }
   ],
   "source": [
    "cdn_css[0]"
   ]
  }
 ],
 "metadata": {
  "kernelspec": {
   "display_name": "Python 3",
   "language": "python",
   "name": "python3"
  },
  "language_info": {
   "codemirror_mode": {
    "name": "ipython",
    "version": 3
   },
   "file_extension": ".py",
   "mimetype": "text/x-python",
   "name": "python",
   "nbconvert_exporter": "python",
   "pygments_lexer": "ipython3",
   "version": "3.6.4"
  }
 },
 "nbformat": 4,
 "nbformat_minor": 2
}
